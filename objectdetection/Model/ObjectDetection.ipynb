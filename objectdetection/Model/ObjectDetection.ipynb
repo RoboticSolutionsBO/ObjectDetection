{
  "nbformat": 4,
  "nbformat_minor": 0,
  "metadata": {
    "colab": {
      "name": "ObjectDetection.ipynb",
      "version": "0.3.2",
      "provenance": [],
      "collapsed_sections": []
    },
    "kernelspec": {
      "name": "python3",
      "display_name": "Python 3"
    },
    "accelerator": "GPU"
  },
  "cells": [
    {
      "metadata": {
        "id": "7vyrmFX-n6pl",
        "colab_type": "text"
      },
      "cell_type": "markdown",
      "source": [
        "# Object Detection\n",
        "Jupyter Notebook for developing and implementing an Artificial Neural Network for ObjectDetection project (https://github.com/RoboticSolutionsBO/ObjectDetection)"
      ]
    },
    {
      "metadata": {
        "id": "0ikyBPO2nwlx",
        "colab_type": "code",
        "colab": {}
      },
      "cell_type": "code",
      "source": [
        "\n"
      ],
      "execution_count": 0,
      "outputs": []
    }
  ]
}